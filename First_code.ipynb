{
  "nbformat": 4,
  "nbformat_minor": 0,
  "metadata": {
    "colab": {
      "provenance": [],
      "authorship_tag": "ABX9TyNmeWLiBwk7UgNdpPASXDg1",
      "include_colab_link": true
    },
    "kernelspec": {
      "name": "python3",
      "display_name": "Python 3"
    },
    "language_info": {
      "name": "python"
    }
  },
  "cells": [
    {
      "cell_type": "markdown",
      "metadata": {
        "id": "view-in-github",
        "colab_type": "text"
      },
      "source": [
        "<a href=\"https://colab.research.google.com/github/bellhyxn/LifeCode/blob/main/First_code.ipynb\" target=\"_parent\"><img src=\"https://colab.research.google.com/assets/colab-badge.svg\" alt=\"Open In Colab\"/></a>"
      ]
    },
    {
      "cell_type": "markdown",
      "source": [
        "나의 첫번째 코드"
      ],
      "metadata": {
        "id": "oV69uh370I9L"
      }
    },
    {
      "cell_type": "code",
      "source": [
        "name = 'jonghyun';\n",
        "print(name)"
      ],
      "metadata": {
        "colab": {
          "base_uri": "https://localhost:8080/"
        },
        "id": "Lwh7kl8R0CTr",
        "outputId": "3eb1393f-722b-4b00-ef95-ad4685c2f757"
      },
      "execution_count": 4,
      "outputs": [
        {
          "output_type": "stream",
          "name": "stdout",
          "text": [
            "jonghyun\n"
          ]
        }
      ]
    },
    {
      "cell_type": "markdown",
      "source": [
        "코딩 두번째, Hello World! 만들기"
      ],
      "metadata": {
        "id": "-LM5UGwX28s6"
      }
    },
    {
      "cell_type": "code",
      "source": [
        "a= 'Hello World!'\n",
        "print(a)"
      ],
      "metadata": {
        "colab": {
          "base_uri": "https://localhost:8080/"
        },
        "id": "kuOlxnwn3Gb9",
        "outputId": "1a6962d1-1dbb-4ce1-9bbf-0f3bebe94581"
      },
      "execution_count": 5,
      "outputs": [
        {
          "output_type": "stream",
          "name": "stdout",
          "text": [
            "Hello World!\n"
          ]
        }
      ]
    }
  ]
}